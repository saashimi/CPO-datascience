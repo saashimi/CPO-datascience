{
 "cells": [
  {
   "cell_type": "markdown",
   "metadata": {},
   "source": [
    "# CPO Datascience\n",
    "\n",
    "This program is intended for use by the Portland State University Campus Planning Office (CPO).  "
   ]
  },
  {
   "cell_type": "code",
   "execution_count": 1,
   "metadata": {
    "collapsed": false
   },
   "outputs": [],
   "source": [
    "#Import required packages\n",
    "import os\n",
    "import pandas as pd\n",
    "import re\n",
    "import numpy as np\n",
    "import datetime\n",
    "import matplotlib.pyplot as plt"
   ]
  },
  {
   "cell_type": "code",
   "execution_count": 29,
   "metadata": {
    "collapsed": false
   },
   "outputs": [],
   "source": [
    "def format_date(df_date):\n",
    "    \"\"\"\n",
    "    Splits Meeting times into Days of the week, Start time, and End time using regex\n",
    "    \"\"\"\n",
    "    df_date['Days'] = df_date['Meeting_Times'].str.extract('([^\\s]+)', expand=True)\n",
    "    df_date['Start_Date'] = df_date['Meeting_Dates'].str.extract('^(.*?)-', expand=True)\n",
    "    df_date['End_Date'] = df_date['Meeting_Dates'].str.extract('((?<=-).*$)', expand=True)\n",
    "    df_date['Start_Time'] = df_date['Meeting_Times'].str.extract('(?<= )(.*)(?=-)', expand=True)\n",
    "    df_date['Start_Time'] = pd.to_datetime(df_date['Start_Time'], format='%H%M')\n",
    "    df_date['End_Time'] = df_date['Meeting_Times'].str.extract('((?<=-).*$)', expand=True)\n",
    "    df_date['End_Time'] = pd.to_datetime(df_date['End_Time'], format='%H%M')\n",
    "    df_date['Duration_Hr'] = ((df_date['End_Time'] - df_date['Start_Time']).dt.seconds)/3600\n",
    "    return df_date\n",
    "\n",
    "def format_df_reg(df_reg):\n",
    "    df_reg = df_reg.loc[df_reg['Xlst'] == '']\n",
    "    columns = ['ROOM', 'Actual_Enrl', 'Room_Capacity']\n",
    "    df_reg = df_reg[columns]\n",
    "    df_reg['%_Capacity'] = df_reg['Actual_Enrl'] / df_reg['Room_Capacity'].astype(int)\n",
    "    return df_reg\n",
    "\n",
    "def merge_xlist(df_xl):\n",
    "    \"\"\"\n",
    "    Merges courses with a value in Xlist column. Sums Actual_Enrl for totals \n",
    "    column but retains Room Number, Room Capacity, and Weekly Class Hours, as \n",
    "    these numbers are constant. \n",
    "    \"\"\"\n",
    "    df_xl = df_xl.loc[df_xl['Xlst'] != '']\n",
    "    xl_operations = ({'ROOM' : 'max',\n",
    "                      'Actual_Enrl' : 'sum', \n",
    "                      'Room_Capacity' : 'max',})\n",
    "    df_xl = df_xl.groupby('Xlst', as_index=False).agg(xl_operations)\n",
    "    df_xl['%_Capacity'] = df_xl['Actual_Enrl'] / df_xl['Room_Capacity'].astype(int)\n",
    "    return df_xl\n",
    "\n",
    "def right_sizing(df_rs):\n",
    "    growth_factor = 0.01 * 3 # 1% annual growth over three years\n",
    "    rs_operations = ({'Class_Hour_Utilization' : 'sum'})\n",
    "    df_rs = df_rs.groupby('Optimal_Size', as_index=False).agg(rs_operations)\n",
    "    df_rs['Calibrated_Demand'] = df_rs['Class_Hour_Utilization'] + growth_factor\n",
    "    # Round up to the nearest integer\n",
    "    df_rs['Qty_Classrooms'] = np.ceil(df_rs['Calibrated_Demand'])\n",
    "    df_rs['Qty_Seats'] = df_rs['Optimal_Size'] * df_rs['Qty_Classrooms']\n",
    "    df_rs = df_rs.drop('Class_Hour_Utilization', 1) #Simplify formatting for printing\n",
    "    return df_rs\n",
    "\n",
    "def final_print(df_print, school_print, term_print):\n",
    "    print('===================================================================')\n",
    "    print('Report for {0} - {1}'.format(school_print, term_print))\n",
    "    print(df_print)\n",
    "    print(\"Total Number of Classrooms Needed (Projected): \", df_print['Qty_Classrooms'].sum())\n",
    "    print(\"Total Number of Seats Needed (Projected): \", df_print['Qty_Seats'].sum())\n",
    "    print('===================================================================','\\n')\n",
    "    columns = ['Optimal_Size', 'Key', 'Qty_Classrooms']\n",
    "    df_print['Key'] = term_print\n",
    "    df_print['Optimal_Size'] = df_print['Optimal_Size'].astype(int)\n",
    "    df_print = df_print[columns]\n",
    "    return df_print\n",
    "\n",
    "def plot_graphs(df_grph_lst, school_print, class_type_print):\n",
    "    \"\"\"\n",
    "    Takes a list of dfs per term and plots them in a single figure.\n",
    "    \"\"\"\n",
    "    class_dct = ({'DO' : 'Departmentally-Controlled Classrooms',\n",
    "                  'GP' : 'General Pool Classrooms',\n",
    "                  'ALL': 'Dept-Controlled and General Pool Classrooms'})\n",
    "    df_all = pd.concat(df_grph_lst)\n",
    "    df_group = df_all.groupby(['Optimal_Size', 'Key'])\n",
    "    df_group_plot = df_group.sum().unstack('Key').plot(kind='bar')\n",
    "    df_group_plot.set_xlabel('Classrooms by Size')\n",
    "    df_group_plot.set_ylabel('Number of Classrooms Needed (Projected)')\n",
    "    df_group_plot.set_title('{0} {1}'.format(school_print, class_dct[class_type_print]))\n",
    "    df_group_plot.set_ylim([0, 5]) #Departmental view \n",
    "    #df_group_plot.set_ylim([0, 75]) # Uncomment for FULL CAMPUS VIEW\n",
    "    plt.show()\n",
    "\n",
    "def main():\n",
    "    \"\"\"\n",
    "    Main program control flow.\n",
    "    \"\"\"\n",
    "    pd.set_option('display.max_rows', None)\n",
    "    df = pd.read_csv('data/PSU_master_classroom.csv')\n",
    "    df = df.fillna('')\n",
    "\n",
    "    df = format_date(df)\n",
    "    # Avoid classes that only occur on a single day\n",
    "    df = df.loc[df['Start_Date'] != df['End_Date']]\n",
    "\n",
    "    # Calculate number of days per week and treat Sunday condition\n",
    "\n",
    "    df['Days_Per_Week'] = df['Days'].str.len()\n",
    "    df['Room_Capacity'] = df['Room_Capacity'].apply(lambda x: x if (x != 'No Data Available') else 0)\n",
    "    df['%_Capacity'] = df['Actual_Enrl'].astype(int) / df['Room_Capacity'].astype(int) \n",
    "    df['Actual_Enrl'] = df['Actual_Enrl'].astype(int)    \n",
    "\n",
    "    #print('Raw Class list dump:')\n",
    "    #print(df[['ROOM', 'Room_Capacity', 'Dept', 'Class', 'Xlst', 'Actual_Enrl', '%_Capacity']])\n",
    "\n",
    "    \n",
    "    # split df into crosslisted and non-crosslisted classes and send them to\n",
    "    # respective functions for cleaning\n",
    "    #df_reg = format_df_reg(df)\n",
    "    #df_xlist = merge_xlist(df)\n",
    "    \n",
    "\n",
    "    #plot_graphs(graph_dfs, school, inp_classroom_type)\n",
    "   \n"
   ]
  },
  {
   "cell_type": "code",
   "execution_count": 30,
   "metadata": {
    "collapsed": false
   },
   "outputs": [
    {
     "name": "stdout",
     "output_type": "stream",
     "text": [
      "['TR' 'R' 'T' 'MW' 'MWF' 'M' 'W' nan 'S' 'F' 'TRF' 'SU' 'MTWRF' 'MTWRFSU'\n",
      " 'MTWR' 'FS' 'WF' 'MTWRU' 'MT' 'MF' 'TF' 'TWRF' 'MTRF' 'WR' 'RF' 'MTR' 'TW'\n",
      " 'MTW' 'TWR' 'WRF' 'MWR' 'FSU' 'MTWF' 'MR' 'U' 'RFS' 'MTWRFS']\n"
     ]
    }
   ],
   "source": [
    "main()"
   ]
  }
 ],
 "metadata": {
  "kernelspec": {
   "display_name": "Python 3",
   "language": "python",
   "name": "python3"
  },
  "language_info": {
   "codemirror_mode": {
    "name": "ipython",
    "version": 3
   },
   "file_extension": ".py",
   "mimetype": "text/x-python",
   "name": "python",
   "nbconvert_exporter": "python",
   "pygments_lexer": "ipython3",
   "version": "3.4.5"
  }
 },
 "nbformat": 4,
 "nbformat_minor": 2
}
