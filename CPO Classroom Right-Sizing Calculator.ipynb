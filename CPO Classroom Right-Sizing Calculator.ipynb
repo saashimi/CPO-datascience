{
 "cells": [
  {
   "cell_type": "markdown",
   "metadata": {},
   "source": [
    "# CPO Datascience\n",
    "\n",
    "This program is intended for use by the Portland State University Campus Planning Office (CPO).  "
   ]
  },
  {
   "cell_type": "code",
   "execution_count": 55,
   "metadata": {
    "collapsed": false
   },
   "outputs": [],
   "source": [
    "#Import required packages\n",
    "import os\n",
    "import pandas as pd\n",
    "import re\n",
    "import numpy as np\n",
    "import datetime\n",
    "import matplotlib.pyplot as plt"
   ]
  },
  {
   "cell_type": "code",
   "execution_count": 64,
   "metadata": {
    "collapsed": false
   },
   "outputs": [],
   "source": [
    "def format_date(df_date):\n",
    "    \"\"\"\n",
    "    Splits Meeting times into Days of the week, Start time, and End time using regex\n",
    "    \"\"\"\n",
    "    df_date['Days'] = df_date['Meeting_Times'].str.extract('([^\\s]+)', expand=True)\n",
    "    df_date['Start_Date'] = df_date['Meeting_Dates'].str.extract('^(.*?)-', expand=True)\n",
    "    df_date['End_Date'] = df_date['Meeting_Dates'].str.extract('((?<=-).*$)', expand=True)\n",
    "    df_date['Start_Time'] = df_date['Meeting_Times'].str.extract('(?<= )(.*)(?=-)', expand=True)\n",
    "    df_date['Start_Time'] = pd.to_datetime(df_date['Start_Time'], format='%H%M')\n",
    "    df_date['End_Time'] = df_date['Meeting_Times'].str.extract('((?<=-).*$)', expand=True)\n",
    "    df_date['End_Time'] = pd.to_datetime(df_date['End_Time'], format='%H%M')\n",
    "    df_date['Duration_Hr'] = ((df_date['End_Time'] - df_date['Start_Time']).dt.seconds)/3600\n",
    "    return df_date\n",
    "\n",
    "def format_xlist(df_xl):\n",
    "    \"\"\"\n",
    "    revises % capacity calculations by using Max Enrollment instead of room capacity.  \n",
    "    \"\"\"\n",
    "    df_xl['%_Capacity'] = np.where(df_xl['Xlst'] != '', \n",
    "                                   df_xl['Actual_Enrl'].astype(int)/df_xl['Max_Enrl'].astype(int), \n",
    "                                   df_xl['Actual_Enrl'].astype(int)/df_xl['Room_Capacity'].astype(int)) \n",
    "    return df_xl\n",
    "\n",
    "def final_print(df_print, school_print, term_print):\n",
    "    print('===================================================================')\n",
    "    print('Report for {0} - {1}'.format(school_print, term_print))\n",
    "    print(df_print)\n",
    "    print(\"Total Number of Classrooms Needed (Projected): \", df_print['Qty_Classrooms'].sum())\n",
    "    print(\"Total Number of Seats Needed (Projected): \", df_print['Qty_Seats'].sum())\n",
    "    print('===================================================================','\\n')\n",
    "    columns = ['Optimal_Size', 'Key', 'Qty_Classrooms']\n",
    "    df_print['Key'] = term_print\n",
    "    df_print['Optimal_Size'] = df_print['Optimal_Size'].astype(int)\n",
    "    df_print = df_print[columns]\n",
    "    return df_print\n",
    "\n",
    "def plot_graphs(df_grph_lst, school_print, class_type_print):\n",
    "    \"\"\"\n",
    "    Takes a list of dfs per term and plots them in a single figure.\n",
    "    \"\"\"\n",
    "    class_dct = ({'DO' : 'Departmentally-Controlled Classrooms',\n",
    "                  'GP' : 'General Pool Classrooms',\n",
    "                  'ALL': 'Dept-Controlled and General Pool Classrooms'})\n",
    "    df_all = pd.concat(df_grph_lst)\n",
    "    df_group = df_all.groupby(['Optimal_Size', 'Key'])\n",
    "    df_group_plot = df_group.sum().unstack('Key').plot(kind='bar')\n",
    "    df_group_plot.set_xlabel('Classrooms by Size')\n",
    "    df_group_plot.set_ylabel('Number of Classrooms Needed (Projected)')\n",
    "    df_group_plot.set_title('{0} {1}'.format(school_print, class_dct[class_type_print]))\n",
    "    df_group_plot.set_ylim([0, 5]) #Departmental view \n",
    "    #df_group_plot.set_ylim([0, 75]) # Uncomment for FULL CAMPUS VIEW\n",
    "    plt.show()\n",
    "\n",
    "def main():\n",
    "    \"\"\"\n",
    "    Main program control flow.\n",
    "    \"\"\"\n",
    "    pd.set_option('display.max_rows', None)\n",
    "    df = pd.read_csv('data/PSU_master_classroom.csv')\n",
    "    df = df.fillna('')\n",
    "\n",
    "    df = format_date(df)\n",
    "    # Avoid classes that only occur on a single day\n",
    "    df = df.loc[df['Start_Date'] != df['End_Date']]\n",
    "\n",
    "    # Calculate number of days per week and treat Sunday condition\n",
    "    df['Days_Per_Week'] = df['Days'].str.len()\n",
    "    df['Room_Capacity'] = df['Room_Capacity'].apply(lambda x: x if (x != 'No Data Available') else 0)\n",
    "\n",
    "    df_cl = format_xlist(df)\n",
    "\n",
    "   \n"
   ]
  },
  {
   "cell_type": "code",
   "execution_count": 65,
   "metadata": {
    "collapsed": false
   },
   "outputs": [],
   "source": [
    "main()"
   ]
  }
 ],
 "metadata": {
  "kernelspec": {
   "display_name": "Python 3",
   "language": "python",
   "name": "python3"
  },
  "language_info": {
   "codemirror_mode": {
    "name": "ipython",
    "version": 3
   },
   "file_extension": ".py",
   "mimetype": "text/x-python",
   "name": "python",
   "nbconvert_exporter": "python",
   "pygments_lexer": "ipython3",
   "version": "3.4.5"
  }
 },
 "nbformat": 4,
 "nbformat_minor": 2
}
