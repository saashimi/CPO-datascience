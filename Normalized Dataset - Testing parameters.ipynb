{
 "cells": [
  {
   "cell_type": "markdown",
   "metadata": {},
   "source": [
    "# OLS Analysis Using Full PSU dataset"
   ]
  },
  {
   "cell_type": "code",
   "execution_count": 1,
   "metadata": {
    "collapsed": true
   },
   "outputs": [],
   "source": [
    "#Import required packages\n",
    "import pandas as pd\n",
    "import numpy as np\n",
    "import datetime\n",
    "import matplotlib.pyplot as plt"
   ]
  },
  {
   "cell_type": "code",
   "execution_count": 2,
   "metadata": {
    "collapsed": false
   },
   "outputs": [],
   "source": [
    "def format_date(df_date):\n",
    "    \"\"\"\n",
    "    Splits Meeting Times and Dates into datetime objects where applicable using regex.\n",
    "    \"\"\"\n",
    "    df_date['Days'] = df_date['Meeting_Times'].str.extract('([^\\s]+)', expand=True)\n",
    "    df_date['Start_Date'] = df_date['Meeting_Dates'].str.extract('([^\\s]+)', expand=True)\n",
    "    df_date['Year'] = df_date['Term'].astype(str).str.slice(0,4)\n",
    "    df_date['Quarter'] = df_date['Term'].astype(str).str.slice(4,6)\n",
    "    df_date['Term_Date'] = pd.to_datetime(df_date['Year'] + df_date['Quarter'], format='%Y%m')\n",
    "    df_date['End_Date'] = df_date['Meeting_Dates'].str.extract('(?<=-)(.*)(?= )', expand=True)\n",
    "    df_date['Start_Time'] = df_date['Meeting_Times'].str.extract('(?<= )(.*)(?=-)', expand=True)\n",
    "    df_date['Start_Time'] = pd.to_datetime(df_date['Start_Time'], format='%H%M')\n",
    "    df_date['End_Time'] = df_date['Meeting_Times'].str.extract('((?<=-).*$)', expand=True)\n",
    "    df_date['End_Time'] = pd.to_datetime(df_date['End_Time'], format='%H%M')\n",
    "    df_date['Duration_Hr'] = ((df_date['End_Time'] - df_date['Start_Time']).dt.seconds)/3600\n",
    "    return df_date\n",
    "\n",
    "def format_xlist(df_xl):\n",
    "    \"\"\"\n",
    "    revises % capacity calculations by using Max Enrollment instead of room capacity.  \n",
    "    \"\"\"\n",
    "    df_xl['Cap_Diff'] = np.where(df_xl['Xlst'] != '', \n",
    "                                   df_xl['Max_Enrl'].astype(int) - df_xl['Actual_Enrl'].astype(int), \n",
    "                                   df_xl['Room_Capacity'].astype(int) - df_xl['Actual_Enrl'].astype(int)) \n",
    "    df_xl = df_xl.loc[df_xl['Room_Capacity'].astype(int) < 999]\n",
    "\n",
    "    return df_xl   \n",
    "    "
   ]
  },
  {
   "cell_type": "markdown",
   "metadata": {},
   "source": [
    "## Partitioning a dataset in training and test sets"
   ]
  },
  {
   "cell_type": "code",
   "execution_count": 3,
   "metadata": {
    "collapsed": false
   },
   "outputs": [
    {
     "name": "stderr",
     "output_type": "stream",
     "text": [
      "/home/kevin/anaconda3/envs/data-science/lib/python3.5/site-packages/ipykernel/__main__.py:22: SettingWithCopyWarning: \n",
      "A value is trying to be set on a copy of a slice from a DataFrame.\n",
      "Try using .loc[row_indexer,col_indexer] = value instead\n",
      "\n",
      "See the caveats in the documentation: http://pandas.pydata.org/pandas-docs/stable/indexing.html#indexing-view-versus-copy\n",
      "/home/kevin/anaconda3/envs/data-science/lib/python3.5/site-packages/ipykernel/__main__.py:25: SettingWithCopyWarning: \n",
      "A value is trying to be set on a copy of a slice from a DataFrame.\n",
      "Try using .loc[row_indexer,col_indexer] = value instead\n",
      "\n",
      "See the caveats in the documentation: http://pandas.pydata.org/pandas-docs/stable/indexing.html#indexing-view-versus-copy\n"
     ]
    }
   ],
   "source": [
    "pd.set_option('display.max_rows', None)  \n",
    "\n",
    "\n",
    "df = pd.read_csv('data/PSU_master_classroom.csv', dtype={'Schedule': object, 'Schedule Desc': object})\n",
    "df = df.fillna('')\n",
    "\n",
    "df = format_date(df)\n",
    "# Avoid classes that only occur on a single day\n",
    "df = df.loc[df['Start_Date'] != df['End_Date']]\n",
    "\n",
    "#terms = [199104, 199204, 199304, 199404, 199504, 199604, 199704, 199804, 199904, 200004, 200104, 200204, 200304, 200404, 200504, 200604, 200704, 200804, 200904, 201004, 201104, 201204, 201304, 201404, 201504, 201604]\n",
    "#terms = [200604, 200704, 200804, 200904, 201004, 201104, 201204, 201304, 201404, 201504, 201604]\n",
    "#df = df.loc[df['Term'].isin(terms)]\n",
    "df = df.loc[df['Online Instruct Method'] != 'Fully Online']\n",
    "\n",
    "# Calculate number of days per week and treat Sunday condition\n",
    "df['Days_Per_Week'] = df['Days'].str.len()\n",
    "df['Room_Capacity'] = df['Room_Capacity'].apply(lambda x: x if (x != 'No Data Available') else 0)\n",
    "df['Building'] = df['ROOM'].str.extract('([^\\s]+)', expand=True)\n",
    "\n",
    "df_cl = format_xlist(df)\n",
    "df_cl['%_Empty'] = df_cl['Cap_Diff'].astype(float) / df_cl['Room_Capacity'].astype(float)\n",
    "\n",
    "# Normalize the results\n",
    "df_cl['%_Empty'] = df_cl['Actual_Enrl'].astype(np.float32)/df_cl['Room_Capacity'].astype(np.float32)\n",
    "df_cl = df_cl.replace([np.inf, -np.inf], np.nan).dropna()\n"
   ]
  },
  {
   "cell_type": "code",
   "execution_count": 4,
   "metadata": {
    "collapsed": false
   },
   "outputs": [
    {
     "name": "stderr",
     "output_type": "stream",
     "text": [
      "/home/kevin/anaconda3/envs/data-science/lib/python3.5/site-packages/ipykernel/__main__.py:13: SettingWithCopyWarning: \n",
      "A value is trying to be set on a copy of a slice from a DataFrame.\n",
      "Try using .loc[row_indexer,col_indexer] = value instead\n",
      "\n",
      "See the caveats in the documentation: http://pandas.pydata.org/pandas-docs/stable/indexing.html#indexing-view-versus-copy\n"
     ]
    }
   ],
   "source": [
    "from sklearn.preprocessing import LabelEncoder\n",
    "\n",
    "#df_cl = df_cl.sample(n = 75000)\n",
    "\n",
    "# Save as a 1D array. Otherwise will throw errors.\n",
    "y = np.asarray(df_cl['%_Empty'], dtype=\"|S6\")\n",
    "\n",
    "cols = df_cl[['Dept', 'Days', 'Start_Time', 'ROOM', 'Quarter', 'Room_Capacity', 'Building', 'Class', 'Instructor', 'Schedule']]\n",
    "cat_columns = ['Dept', 'Days', 'Class', 'Start_Time', 'ROOM', 'Building', 'Instructor', 'Schedule']\n",
    "\n",
    "for column in cat_columns:\n",
    "    categorical_mapping = {label: idx for idx, label in enumerate(np.unique(cols['{0}'.format(column)]))}\n",
    "    cols['{0}'.format(column)] = cols['{0}'.format(column)].map(categorical_mapping)\n",
    "\n",
    "from distutils.version import LooseVersion as Version\n",
    "from sklearn import __version__ as sklearn_version\n",
    "    \n",
    "if Version(sklearn_version) < '0.18':\n",
    "    from sklearn.cross_validation import train_test_split\n",
    "else:\n",
    "    from sklearn.model_selection import train_test_split\n",
    "\n",
    "X = cols.iloc[:, 1:].values\n",
    "\n",
    "X_train, X_test, y_train, y_test = train_test_split(X, y, test_size=0.3, random_state=0)\n"
   ]
  },
  {
   "cell_type": "markdown",
   "metadata": {},
   "source": [
    "## Determine Feature Importances"
   ]
  },
  {
   "cell_type": "code",
   "execution_count": 5,
   "metadata": {
    "collapsed": false
   },
   "outputs": [
    {
     "name": "stdout",
     "output_type": "stream",
     "text": [
      " 1) Class                          0.245678\n",
      " 2) Instructor                     0.211989\n",
      " 3) Start_Time                     0.162480\n",
      " 4) Days                           0.107036\n",
      " 5) Quarter                        0.093285\n",
      " 6) ROOM                           0.086660\n",
      " 7) Room_Capacity                  0.047688\n",
      " 8) Building                       0.026264\n",
      " 9) Schedule                       0.018919\n"
     ]
    },
    {
     "data": {
      "image/png": "[encoded data removed]",
      "text/plain": [
       "<matplotlib.figure.Figure at 0x7ff09586e4e0>"
      ]
     },
     "metadata": {},
     "output_type": "display_data"
    }
   ],
   "source": [
    "from sklearn.ensemble import RandomForestClassifier\n",
    "\n",
    "feat_labels = cols.columns[1:]\n",
    "\n",
    "forest = RandomForestClassifier(n_estimators=20,\n",
    "                                random_state=0,\n",
    "                                n_jobs=-1) # -1 sets n_jobs=n_CPU cores\n",
    "\n",
    "forest.fit(X_train, y_train)\n",
    "importances = forest.feature_importances_\n",
    "\n",
    "indices = np.argsort(importances)[::-1]\n",
    "\n",
    "for f in range(X_train.shape[1]):\n",
    "    print(\"%2d) %-*s %f\" % (f + 1, 30, \n",
    "                            feat_labels[indices[f]], \n",
    "                            importances[indices[f]]))\n",
    "\n",
    "plt.title('Feature Importances')\n",
    "plt.bar(range(X_train.shape[1]), \n",
    "        importances[indices],\n",
    "        color='lightblue', \n",
    "        align='center')\n",
    "\n",
    "plt.xticks(range(X_train.shape[1]), \n",
    "           feat_labels[indices], rotation=90)\n",
    "plt.xlim([-1, X_train.shape[1]])\n",
    "plt.tight_layout()\n",
    "plt.show()"
   ]
  },
  {
   "cell_type": "markdown",
   "metadata": {},
   "source": [
    "## Test Prediction Results"
   ]
  },
  {
   "cell_type": "markdown",
   "metadata": {},
   "source": [
    "Class, Term, and Start Times are the three most important factors in determining the percentage of empty seats expected."
   ]
  },
  {
   "cell_type": "markdown",
   "metadata": {
    "collapsed": false
   },
   "source": [
    "from sklearn import model_selection\n",
    "\n",
    "kfold = model_selection.KFold(n_splits=10, random_state=0)\n",
    "model = RandomForestClassifier(n_estimators=10, random_state=0, n_jobs=-1)\n",
    "results = model_selection.cross_val_score(model, X_test, y_test, cv=kfold)\n",
    "print(results.mean())"
   ]
  },
  {
   "cell_type": "code",
   "execution_count": 7,
   "metadata": {
    "collapsed": false
   },
   "outputs": [
    {
     "name": "stdout",
     "output_type": "stream",
     "text": [
      "0.685860586445\n"
     ]
    }
   ],
   "source": [
    "from sklearn.metrics import accuracy_score\n",
    "\n",
    "forest = RandomForestClassifier(n_estimators=10,\n",
    "                                random_state=0,\n",
    "                                n_jobs=-1) # -1 sets n_jobs=n_CPU cores\n",
    "\n",
    "forest.fit(X_train, y_train)\n",
    "y_predict = forest.predict(X)\n",
    "y_actual = y\n",
    "\n",
    "print(accuracy_score(y_actual, y_predict))\n"
   ]
  }
 ],
 "metadata": {
  "kernelspec": {
   "display_name": "Python 3",
   "language": "python",
   "name": "python3"
  },
  "language_info": {
   "codemirror_mode": {
    "name": "ipython",
    "version": 3
   },
   "file_extension": ".py",
   "mimetype": "text/x-python",
   "name": "python",
   "nbconvert_exporter": "python",
   "pygments_lexer": "ipython3",
   "version": "3.5.2"
  }
 },
 "nbformat": 4,
 "nbformat_minor": 2
}
