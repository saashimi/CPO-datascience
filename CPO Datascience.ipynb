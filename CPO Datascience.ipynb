{
 "cells": [
  {
   "cell_type": "markdown",
   "metadata": {},
   "source": [
    "# CPO Datascience\n",
    "\n",
    "This program is intended for use by the Portland State University Campus Planning Office (CPO).  "
   ]
  },
  {
   "cell_type": "code",
   "execution_count": 1,
   "metadata": {
    "collapsed": false
   },
   "outputs": [],
   "source": [
    "#Import required packages\n",
    "import pandas as pd\n",
    "import statsmodels.api as sm\n",
    "import statsmodels.formula.api as smf\n",
    "import numpy as np\n",
    "import datetime\n",
    "import seaborn as sns\n",
    "import matplotlib.pyplot as plt\n",
    "\n"
   ]
  },
  {
   "cell_type": "code",
   "execution_count": null,
   "metadata": {
    "collapsed": false
   },
   "outputs": [],
   "source": [
    "def format_date(df_date):\n",
    "    \"\"\"\n",
    "    Splits Meeting Times and Dates into datetime objects where applicable using regex.\n",
    "    \"\"\"\n",
    "    df_date['Days'] = df_date['Meeting_Times'].str.extract('([^\\s]+)', expand=True)\n",
    "    df_date['Start_Date'] = df_date['Meeting_Dates'].str.extract('([^\\s]+)', expand=True)\n",
    "    df_date['Year'] = df_date['Term'].astype(str).str.slice(0,4)\n",
    "    df_date['Quarter'] = df_date['Term'].astype(str).str.slice(5,6)\n",
    "    df_date['Start_Month'] = pd.to_datetime(df_date['Year'] + df_date['Start_Date'], format='%Y%b')\n",
    "    df_date['End_Date'] = df_date['Meeting_Dates'].str.extract('(?<=-)(.*)(?= )', expand=True)\n",
    "    #df_date['End_Month'] = pd.to_datetime(df_date['End_Date'], format='%b')\n",
    "    df_date['Start_Time'] = df_date['Meeting_Times'].str.extract('(?<= )(.*)(?=-)', expand=True)\n",
    "    df_date['Start_Time'] = pd.to_datetime(df_date['Start_Time'], format='%H%M')\n",
    "    df_date['End_Time'] = df_date['Meeting_Times'].str.extract('((?<=-).*$)', expand=True)\n",
    "    df_date['End_Time'] = pd.to_datetime(df_date['End_Time'], format='%H%M')\n",
    "    df_date['Duration_Hr'] = ((df_date['End_Time'] - df_date['Start_Time']).dt.seconds)/3600\n",
    "    df_date = df_date.set_index(pd.DatetimeIndex(df_date['Start_Month']))\n",
    "    return df_date\n",
    "\n",
    "def format_xlist(df_xl):\n",
    "    \"\"\"\n",
    "    revises % capacity calculations by using Max Enrollment instead of room capacity.  \n",
    "    \"\"\"\n",
    "    df_xl['Cap_Diff'] = np.where(df_xl['Xlst'] != '', \n",
    "                                   df_xl['Max_Enrl'].astype(int) - df_xl['Actual_Enrl'].astype(int), \n",
    "                                   df_xl['Room_Capacity'].astype(int) - df_xl['Actual_Enrl'].astype(int)) \n",
    "    df_xl = df_xl.loc[df_xl['Room_Capacity'].astype(int) < 999]\n",
    "\n",
    "    return df_xl\n",
    "\n",
    "\n",
    "def grouped_plot_graph(df_in):\n",
    "    fig, ax = plt.subplots()\n",
    "    grouped = df_in.groupby(['Year', 'Quarter'])\n",
    "    for key, group in grouped:\n",
    "        group.plot(ax=ax, kind='scatter', x='Start_Month', y='Cap_Diff', label=key)\n",
    "    plt.show()\n",
    "    \n",
    "def plot_graph(x_vals, y_vals):\n",
    "    \"\"\"\n",
    "    Plots the dataframe information.\n",
    "    \"\"\"\n",
    "    x = range(len(x_vals))\n",
    "    plt.figure(figsize=(20,10)) \n",
    "    N = 50\n",
    "    colors = np.random.rand(N)\n",
    "    sns.stripplot(x_vals, y_vals)\n",
    "    plt.xticks(rotation=90)\n",
    "    plt.scatter(x, y_vals, alpha=0.5, )\n",
    "    plt.show()\n",
    "\n",
    "def OLS_operations(y, X):\n",
    "    #mod = smf.OLS('Cap_Diff ~ C(Dept)', data=df_data)\n",
    "    mod = sm.OLS(np.asarray(y), X)\n",
    "    res = mod.fit()\n",
    "    print(res.summary())\n",
    "    fig = plt.figure(figsize=(20,10))\n",
    "    fig = sm.graphics.plot_partregress_grid(mod, fig=fig)\n",
    "    plt.show()\n",
    "\n",
    "def main():\n",
    "    \"\"\"\n",
    "    Main program control flow.\n",
    "    \"\"\"\n",
    "    #pd.set_option('display.max_rows', None)\n",
    "    pd.set_option('display.max_columns', None)\n",
    "    df = pd.read_csv('data/PSU_master_classroom.csv')\n",
    "    df = df.fillna('')\n",
    "\n",
    "    df = format_date(df)\n",
    "    # Avoid classes that only occur on a single day\n",
    "    df = df.loc[df['Start_Date'] != df['End_Date']]\n",
    "    df = df.loc[df['Online Instruct Method'] != 'Fully Online']\n",
    "    #df = df.loc[df['Term'] == 201604]\n",
    "    \n",
    "    # Calculate number of days per week and treat Sunday condition\n",
    "    df['Days_Per_Week'] = df['Days'].str.len()\n",
    "    df['Room_Capacity'] = df['Room_Capacity'].apply(lambda x: x if (x != 'No Data Available') else 0)\n",
    "    \n",
    "    df_cl = format_xlist(df)\n",
    "    \n",
    "    dates = pd.date_range('2013-01', '2013-12', freq='Q')\n",
    "    print(dates)\n",
    "    \n",
    "    \n",
    "    #df_cl['Cap_Diff'].plot()\n",
    "    dep_var = df_cl['Cap_Diff'] # Our dependent variable\n",
    "    category = 'Dept'\n",
    "    string_var = df_cl['{0}'.format(category)] # Changeable test variables\n",
    "    string_var = np.asarray(sorted(string_var))\n",
    "    test_var = sm.tools.categorical(string_var, drop=True)\n",
    "    \n",
    "    df_cl = df_cl.groupby('Dept').mean()\n",
    "    #df_cl['Cap_Diff'].plot()\n",
    "    #plt.show()\n",
    "    \n",
    "    plot_graph(test_var, dep_var)\n",
    "    #OLS_operations(dep_var, test_var)\n",
    "\n"
   ]
  },
  {
   "cell_type": "code",
   "execution_count": null,
   "metadata": {
    "collapsed": false
   },
   "outputs": [],
   "source": [
    "main()"
   ]
  }
 ],
 "metadata": {
  "kernelspec": {
   "display_name": "Python 3",
   "language": "python",
   "name": "python3"
  },
  "language_info": {
   "codemirror_mode": {
    "name": "ipython",
    "version": 3
   },
   "file_extension": ".py",
   "mimetype": "text/x-python",
   "name": "python",
   "nbconvert_exporter": "python",
   "pygments_lexer": "ipython3",
   "version": "3.4.5"
  }
 },
 "nbformat": 4,
 "nbformat_minor": 2
}
